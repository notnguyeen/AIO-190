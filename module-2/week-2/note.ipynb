{
 "cells": [
  {
   "cell_type": "code",
   "execution_count": 7,
   "metadata": {},
   "outputs": [],
   "source": [
    "\n",
    "import numpy as np\n",
    "\n",
    "\n",
    "# To compute vector length\n",
    "def compute_vector_length(vector):\n",
    "    return np.linalg.norm(vector)\n",
    "\n",
    "\n",
    "# To compute dot product\n",
    "def compute_dot_product(v1, v2):\n",
    "    return np.dot(v1, v2)\n",
    "\n",
    "\n",
    "#\n",
    "def matrix_multi_vector(m, v):\n",
    "    return np.dot(m, v)\n",
    "\n",
    "\n",
    "#\n",
    "def matrix_multi_matrix(m1, m2):\n",
    "    return np.dot(m1, m2)\n",
    "\n",
    "\n",
    "#\n",
    "def inverse_matrix(m):\n",
    "    return np.linalg.inv(m)"
   ]
  },
  {
   "cell_type": "code",
   "execution_count": 6,
   "metadata": {},
   "outputs": [
    {
     "name": "stdout",
     "output_type": "stream",
     "text": [
      "23.28\n"
     ]
    }
   ],
   "source": [
    "vector = np.array ([ -2 , 4 , 9 , 21])\n",
    "result = compute_vector_length(vector)\n",
    "print(round(result, 2))"
   ]
  },
  {
   "cell_type": "code",
   "execution_count": 8,
   "metadata": {},
   "outputs": [
    {
     "name": "stdout",
     "output_type": "stream",
     "text": [
      "4\n"
     ]
    }
   ],
   "source": [
    "v1 = np. array ([0 , 1 , -1 , 2])\n",
    "v2 = np. array ([2 , 5 , 1 , 0])\n",
    "result = compute_dot_product (v1 , v2)\n",
    "print ( round (result ,2) )"
   ]
  },
  {
   "cell_type": "code",
   "execution_count": 12,
   "metadata": {},
   "outputs": [
    {
     "name": "stdout",
     "output_type": "stream",
     "text": [
      "result: [ 5 11]\n"
     ]
    }
   ],
   "source": [
    "x = np. array ([[1 , 2],\n",
    "                [3 , 4]])\n",
    "\n",
    "k = np. array ([1 , 2])\n",
    "print (f'result:', np.dot(x, k))"
   ]
  },
  {
   "cell_type": "code",
   "execution_count": 13,
   "metadata": {},
   "outputs": [
    {
     "name": "stdout",
     "output_type": "stream",
     "text": [
      "result: [ 3 -5]\n"
     ]
    }
   ],
   "source": [
    "x = np.array([[-1, 2], [3, -4]])\n",
    "\n",
    "k = np.array([1, 2])\n",
    "print(f\"result:\", np.dot(x, k))"
   ]
  },
  {
   "cell_type": "code",
   "execution_count": 14,
   "metadata": {},
   "outputs": [
    {
     "data": {
      "text/plain": [
       "array([3, 1])"
      ]
     },
     "execution_count": 14,
     "metadata": {},
     "output_type": "execute_result"
    }
   ],
   "source": [
    "m = np.array([[-1, 1, 1], [0, -4, 9]])\n",
    "v = np.array([0, 2, 1])\n",
    "\n",
    "matrix_multi_vector(m, v)"
   ]
  },
  {
   "cell_type": "code",
   "execution_count": 16,
   "metadata": {},
   "outputs": [
    {
     "data": {
      "text/plain": [
       "array([[  6,  -1],\n",
       "       [-16, -10]])"
      ]
     },
     "execution_count": 16,
     "metadata": {},
     "output_type": "execute_result"
    }
   ],
   "source": [
    "m1 = np.array([[0, 1, 2], [2, -3, 1]])\n",
    "m2 = np.array([[1, -3], [6, 1], [0, -1]])\n",
    "\n",
    "\n",
    "matrix_multi_matrix(m1, m2)"
   ]
  },
  {
   "cell_type": "code",
   "execution_count": null,
   "metadata": {},
   "outputs": [],
   "source": []
  },
  {
   "cell_type": "code",
   "execution_count": 19,
   "metadata": {},
   "outputs": [
    {
     "data": {
      "text/plain": [
       "array([[1., 1., 1.],\n",
       "       [2., 2., 2.],\n",
       "       [3., 3., 3.]])"
      ]
     },
     "execution_count": 19,
     "metadata": {},
     "output_type": "execute_result"
    }
   ],
   "source": [
    "m1 = np.eye(3)\n",
    "m2 = np.array([[1, 1, 1], [2, 2, 2], [3, 3, 3]])\n",
    "\n",
    "result = m1@m2\n",
    "result\n"
   ]
  }
 ],
 "metadata": {
  "kernelspec": {
   "display_name": "base",
   "language": "python",
   "name": "python3"
  },
  "language_info": {
   "codemirror_mode": {
    "name": "ipython",
    "version": 3
   },
   "file_extension": ".py",
   "mimetype": "text/x-python",
   "name": "python",
   "nbconvert_exporter": "python",
   "pygments_lexer": "ipython3",
   "version": "3.11.7"
  }
 },
 "nbformat": 4,
 "nbformat_minor": 2
}
