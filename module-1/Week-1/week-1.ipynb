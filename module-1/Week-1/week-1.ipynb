{
 "cells": [
  {
   "cell_type": "markdown",
   "metadata": {},
   "source": [
    "Link nộp bài: https://docs.google.com/forms/d/e/1FAIpQLSdr2BkcGGiDAstzWwlYEcxeNlKnfvd2RpxiWnL6RY0cw7HSpQ/viewform"
   ]
  },
  {
   "cell_type": "markdown",
   "metadata": {},
   "source": [
    "## Bài 01:"
   ]
  },
  {
   "cell_type": "code",
   "execution_count": 1,
   "metadata": {},
   "outputs": [
    {
     "name": "stdout",
     "output_type": "stream",
     "text": [
      "Value for tp is not an int.\n"
     ]
    }
   ],
   "source": [
    "def calculation_result(precision, recall, f1_score):\n",
    "    print(f\"Precision: {precision} | Recall: {recall} | F1 Score: {f1_score}\")\n",
    "\n",
    "\n",
    "def check_rule(varible_dict):\n",
    "    for key, value in varible_dict.items():\n",
    "        try:\n",
    "            varible_dict[key] = int(value)  # Update the dictionary with integer values\n",
    "        except ValueError:\n",
    "            print(f\"Value for {key} is not an int.\")\n",
    "            return\n",
    "\n",
    "        if varible_dict[key] <= 0:\n",
    "            print(f\"Value for {key} must be greater than zero.\")\n",
    "            return\n",
    "\n",
    "    # Calculate precision, recall, and f1_score if all values are valid\n",
    "    tp = varible_dict[\"tp\"]\n",
    "    fp = varible_dict[\"fp\"]\n",
    "    fn = varible_dict[\"fn\"]\n",
    "\n",
    "    # Classification Model\n",
    "    precision = tp / (tp + fp)\n",
    "    recall = tp / (tp + fn)\n",
    "    f1_score = 2 * ((precision * recall) / (precision + recall))\n",
    "\n",
    "    # Call the placeholder function with the calculated values\n",
    "    calculation_result(precision, recall, f1_score)\n",
    "\n",
    "\n",
    "def main():\n",
    "    varible_dict = {}\n",
    "    varible_dict[\"tp\"] = input(\"Enter the number of tp: \")\n",
    "    varible_dict[\"fp\"] = input(\"Enter the number of fp: \")\n",
    "    varible_dict[\"fn\"] = input(\"Enter the number of fn: \")\n",
    "\n",
    "    check_rule(varible_dict)\n",
    "\n",
    "\n",
    "if __name__ == \"__main__\":\n",
    "    main()"
   ]
  },
  {
   "cell_type": "markdown",
   "metadata": {},
   "source": [
    "## Bài 2:"
   ]
  },
  {
   "cell_type": "code",
   "execution_count": 30,
   "metadata": {},
   "outputs": [
    {
     "name": "stdout",
     "output_type": "stream",
     "text": [
      "Select an activation function:\n",
      " 1| ReLU\n",
      " 2| ELU\n",
      " 3| Sigmoid\n",
      "Invalid choice. Please select 1, 2, or 3.\n"
     ]
    }
   ],
   "source": [
    "import numpy as np\n",
    "\n",
    "\n",
    "def sigmoid(x):\n",
    "    return 1 / (1 + np.exp(-x))\n",
    "\n",
    "\n",
    "def relu(x):\n",
    "    return np.maximum(0, x)\n",
    "\n",
    "\n",
    "def elu(x, alpha=1.0):\n",
    "    return np.where(x > 0, x, alpha * (np.exp(x) - 1))\n",
    "\n",
    "\n",
    "def get_user_input():\n",
    "    try:\n",
    "        x = list(\n",
    "            map(float, input(\"Enter a series of numbers separated by spaces: \").split())\n",
    "        )\n",
    "        x = np.array(x)\n",
    "        return x\n",
    "    except ValueError:\n",
    "        print(\"Invalid input. x must be a number\")\n",
    "\n",
    "\n",
    "def main():\n",
    "    x = get_user_input()\n",
    "    print(\"Select an activation function:\")\n",
    "    print(\" 1| ReLU\")\n",
    "    print(\" 2| ELU\")\n",
    "    print(\" 3| Sigmoid\")\n",
    "\n",
    "    choice = input(\"Select: \")\n",
    "\n",
    "    if choice == \"1\":\n",
    "        result = relu(x)\n",
    "        print(\"ReLU result:\", result)\n",
    "    elif choice == \"2\":\n",
    "        alpha = float(input(\"Enter the alpha value for ELU (default is 1.0): \") or 1.0)\n",
    "        result = elu(x, alpha)\n",
    "        print(\"ELU result:\", result)\n",
    "    elif choice == \"3\":\n",
    "        result = sigmoid(x)\n",
    "        print(\"Sigmoid result:\", result)\n",
    "    else:\n",
    "        print(\"Invalid choice. Please select 1, 2, or 3.\")"
   ]
  },
  {
   "cell_type": "markdown",
   "metadata": {},
   "source": [
    "## Bài 3:"
   ]
  },
  {
   "cell_type": "code",
   "execution_count": 22,
   "metadata": {},
   "outputs": [
    {
     "name": "stdout",
     "output_type": "stream",
     "text": [
      "Loss name: RMSE | sample: 0 | pred: 3.8545041147464607 | target: 6.205693454292591 | loss: 5.52809131039537\n",
      "Loss name: RMSE | sample: 1 | pred: 2.7376783016249915 | target: 1.631419683655635 | loss: 1.2238081298314707\n",
      "Loss name: RMSE | sample: 2 | pred: 1.3023927783898548 | target: 7.226230601787561 | loss: 35.09185455791727\n",
      "Loss name: RMSE | sample: 3 | pred: 4.731527631160819 | target: 1.6050171086880471 | loss: 9.775068047132967\n",
      "Loss name: RMSE | sample: 4 | pred: 9.818630672400372 | target: 3.94571602518629 | loss: 34.49112645346172\n",
      "final RMSE: 4.149938517586467\n"
     ]
    }
   ],
   "source": [
    "import math\n",
    "import random\n",
    "\n",
    "\n",
    "def calculate_loss(num_samples, loss_name):\n",
    "    if not num_samples.isnumeric():\n",
    "        print(\"Number of samples must be an integer number.\")\n",
    "        return\n",
    "\n",
    "    num_samples = int(num_samples)\n",
    "    total_loss = 0\n",
    "\n",
    "    for i in range(num_samples):\n",
    "        pred = random.uniform(0, 10)\n",
    "        target = random.uniform(0, 10)\n",
    "\n",
    "        if loss_name == \"MAE\":\n",
    "            loss = abs(pred - target)\n",
    "        elif loss_name == \"MSE\":\n",
    "            loss = (pred - target) ** 2\n",
    "        elif loss_name == \"RMSE\":\n",
    "            loss = (pred - target) ** 2\n",
    "            total_loss += loss\n",
    "            print(\n",
    "                f\"Loss name: {loss_name} | sample: {i} | pred: {pred} | target: {target} | loss: {loss}\"\n",
    "            )\n",
    "            continue\n",
    "\n",
    "        print(\n",
    "            f\"Loss name: {loss_name} | sample: {i} | pred: {pred} | target: {target} | loss: {loss}\"\n",
    "        )\n",
    "\n",
    "    if loss_name == \"RMSE\":\n",
    "        final_rmse = math.sqrt(total_loss / num_samples)\n",
    "        print(f\"final {loss_name}: {final_rmse}\")\n",
    "\n",
    "\n",
    "def main():\n",
    "    num_samples = input(\n",
    "        \"Input number of samples (integer number) which are generated: \"\n",
    "    )\n",
    "    loss_name = input(\"Input loss name: \").upper()\n",
    "    calculate_loss(num_samples, loss_name)\n",
    "\n",
    "\n",
    "if __name__ == \"__main__\":\n",
    "    main()"
   ]
  },
  {
   "cell_type": "markdown",
   "metadata": {},
   "source": [
    "## Bài 4:"
   ]
  },
  {
   "cell_type": "code",
   "execution_count": 27,
   "metadata": {},
   "outputs": [
    {
     "name": "stdout",
     "output_type": "stream",
     "text": [
      "0.001592652393160744\n",
      "-0.9999987352210833\n",
      "11.530292029865986\n",
      "11.573574824666185\n",
      "11.573574824666185\n"
     ]
    }
   ],
   "source": [
    "# import\n",
    "\n",
    "\n",
    "def factorial(n):\n",
    "    if n == 0:\n",
    "        return 1\n",
    "    else:\n",
    "        return n * factorial(n - 1)\n",
    "\n",
    "\n",
    "def approx_sin(x, n):\n",
    "    result = 0\n",
    "    for i in range(n):\n",
    "        term = ((-1) ** i) * (x ** (2 * i + 1)) / factorial(2 * i + 1)\n",
    "        result += term\n",
    "    return result\n",
    "\n",
    "\n",
    "def approx_cos(x, n):\n",
    "    result = 0\n",
    "    for i in range(n):\n",
    "        term = ((-1) ** i) * (x ** (2 * i)) / factorial(2 * i)\n",
    "        result += term\n",
    "    return result\n",
    "\n",
    "\n",
    "def approx_sinh(x, n):\n",
    "    result = 0\n",
    "    for i in range(n):\n",
    "        term = (x ** (2 * i + 1)) / factorial(2 * i + 1)\n",
    "        result += term\n",
    "    return result\n",
    "\n",
    "\n",
    "def approx_cosh(x, n):\n",
    "    result = 0\n",
    "    for i in range(n):\n",
    "        term = (x ** (2 * i)) / factorial(2 * i)\n",
    "        result += term\n",
    "    return result\n",
    "\n",
    "\n",
    "def main():\n",
    "    x = 3.14\n",
    "    n = 10\n",
    "    print(approx_sin(x, n))\n",
    "    print(approx_cos(x, n))\n",
    "    print(approx_sinh(x, n))\n",
    "    print(approx_cosh(x, n))\n",
    "\n",
    "\n",
    "if __name__ == \"__main__\":\n",
    "    main()"
   ]
  },
  {
   "cell_type": "markdown",
   "metadata": {},
   "source": [
    "## Bài 5:"
   ]
  },
  {
   "cell_type": "code",
   "execution_count": 31,
   "metadata": {},
   "outputs": [
    {
     "name": "stdout",
     "output_type": "stream",
     "text": [
      "0.025031328369998107\n",
      "0.03544417213033135\n",
      "0.05625552183565574\n",
      "0.45836890322464546\n"
     ]
    }
   ],
   "source": [
    "def md_nre_single_sample(y, y_hat, n, p):\n",
    "    root_y = y ** (1 / n)\n",
    "    root_y_hat = y_hat ** (1 / n)\n",
    "\n",
    "    # Mean Difference of nth Root Error\n",
    "    md_nre = abs(root_y - root_y_hat) ** p\n",
    "\n",
    "    return md_nre\n",
    "\n",
    "\n",
    "def main():\n",
    "    print(md_nre_single_sample(y=100, y_hat=99.5, n=2, p=1))\n",
    "    print(md_nre_single_sample(y=50, y_hat=49.5, n=2, p=1))\n",
    "    print(md_nre_single_sample(y=20, y_hat=19.5, n=2, p=1))\n",
    "    print(md_nre_single_sample(y=0.6, y_hat=0.1, n=2, p=1))\n",
    "\n",
    "\n",
    "if __name__ == \"__main__\":\n",
    "    main()"
   ]
  }
 ],
 "metadata": {
  "kernelspec": {
   "display_name": "base",
   "language": "python",
   "name": "python3"
  },
  "language_info": {
   "codemirror_mode": {
    "name": "ipython",
    "version": 3
   },
   "file_extension": ".py",
   "mimetype": "text/x-python",
   "name": "python",
   "nbconvert_exporter": "python",
   "pygments_lexer": "ipython3",
   "version": "3.11.7"
  }
 },
 "nbformat": 4,
 "nbformat_minor": 2
}
